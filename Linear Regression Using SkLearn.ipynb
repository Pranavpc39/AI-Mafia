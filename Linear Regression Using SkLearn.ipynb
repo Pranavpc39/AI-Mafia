{
 "cells": [
  {
   "cell_type": "markdown",
   "metadata": {},
   "source": [
    "# Linear Regression Using SKLearn"
   ]
  },
  {
   "cell_type": "code",
   "execution_count": 1,
   "metadata": {},
   "outputs": [],
   "source": [
    "import numpy as np\n",
    "import pandas as pd\n",
    "import matplotlib.pyplot as plt"
   ]
  },
  {
   "cell_type": "code",
   "execution_count": 2,
   "metadata": {},
   "outputs": [],
   "source": [
    "dfx = pd.read_csv('D:\\My work world\\AI Mafia\\dataset\\linearX.csv')"
   ]
  },
  {
   "cell_type": "code",
   "execution_count": 3,
   "metadata": {},
   "outputs": [],
   "source": [
    "dfy = pd.read_csv('D:\\My work world\\AI Mafia\\dataset\\linearY.csv')"
   ]
  },
  {
   "cell_type": "code",
   "execution_count": 5,
   "metadata": {},
   "outputs": [
    {
     "data": {
      "text/html": [
       "<div>\n",
       "<style scoped>\n",
       "    .dataframe tbody tr th:only-of-type {\n",
       "        vertical-align: middle;\n",
       "    }\n",
       "\n",
       "    .dataframe tbody tr th {\n",
       "        vertical-align: top;\n",
       "    }\n",
       "\n",
       "    .dataframe thead th {\n",
       "        text-align: right;\n",
       "    }\n",
       "</style>\n",
       "<table border=\"1\" class=\"dataframe\">\n",
       "  <thead>\n",
       "    <tr style=\"text-align: right;\">\n",
       "      <th></th>\n",
       "      <th>9.1</th>\n",
       "    </tr>\n",
       "  </thead>\n",
       "  <tbody>\n",
       "    <tr>\n",
       "      <th>0</th>\n",
       "      <td>8.0</td>\n",
       "    </tr>\n",
       "    <tr>\n",
       "      <th>1</th>\n",
       "      <td>9.1</td>\n",
       "    </tr>\n",
       "    <tr>\n",
       "      <th>2</th>\n",
       "      <td>8.4</td>\n",
       "    </tr>\n",
       "    <tr>\n",
       "      <th>3</th>\n",
       "      <td>6.9</td>\n",
       "    </tr>\n",
       "    <tr>\n",
       "      <th>4</th>\n",
       "      <td>7.7</td>\n",
       "    </tr>\n",
       "  </tbody>\n",
       "</table>\n",
       "</div>"
      ],
      "text/plain": [
       "   9.1\n",
       "0  8.0\n",
       "1  9.1\n",
       "2  8.4\n",
       "3  6.9\n",
       "4  7.7"
      ]
     },
     "execution_count": 5,
     "metadata": {},
     "output_type": "execute_result"
    }
   ],
   "source": [
    "dfx.head()"
   ]
  },
  {
   "cell_type": "code",
   "execution_count": 6,
   "metadata": {},
   "outputs": [
    {
     "data": {
      "text/html": [
       "<div>\n",
       "<style scoped>\n",
       "    .dataframe tbody tr th:only-of-type {\n",
       "        vertical-align: middle;\n",
       "    }\n",
       "\n",
       "    .dataframe tbody tr th {\n",
       "        vertical-align: top;\n",
       "    }\n",
       "\n",
       "    .dataframe thead th {\n",
       "        text-align: right;\n",
       "    }\n",
       "</style>\n",
       "<table border=\"1\" class=\"dataframe\">\n",
       "  <thead>\n",
       "    <tr style=\"text-align: right;\">\n",
       "      <th></th>\n",
       "      <th>0.99523</th>\n",
       "    </tr>\n",
       "  </thead>\n",
       "  <tbody>\n",
       "    <tr>\n",
       "      <th>0</th>\n",
       "      <td>0.99007</td>\n",
       "    </tr>\n",
       "    <tr>\n",
       "      <th>1</th>\n",
       "      <td>0.99769</td>\n",
       "    </tr>\n",
       "    <tr>\n",
       "      <th>2</th>\n",
       "      <td>0.99386</td>\n",
       "    </tr>\n",
       "    <tr>\n",
       "      <th>3</th>\n",
       "      <td>0.99508</td>\n",
       "    </tr>\n",
       "    <tr>\n",
       "      <th>4</th>\n",
       "      <td>0.99630</td>\n",
       "    </tr>\n",
       "  </tbody>\n",
       "</table>\n",
       "</div>"
      ],
      "text/plain": [
       "   0.99523\n",
       "0  0.99007\n",
       "1  0.99769\n",
       "2  0.99386\n",
       "3  0.99508\n",
       "4  0.99630"
      ]
     },
     "execution_count": 6,
     "metadata": {},
     "output_type": "execute_result"
    }
   ],
   "source": [
    "dfy.head()"
   ]
  },
  {
   "cell_type": "code",
   "execution_count": 7,
   "metadata": {},
   "outputs": [
    {
     "name": "stdout",
     "output_type": "stream",
     "text": [
      "(99, 1) (99, 1)\n"
     ]
    }
   ],
   "source": [
    "print(dfx.shape,dfy.shape)"
   ]
  },
  {
   "cell_type": "code",
   "execution_count": 9,
   "metadata": {},
   "outputs": [],
   "source": [
    "x = dfx.values\n",
    "y = dfy.values"
   ]
  },
  {
   "cell_type": "code",
   "execution_count": 10,
   "metadata": {},
   "outputs": [
    {
     "data": {
      "image/png": "[encoded data removed]",
      "text/plain": [
       "<Figure size 432x288 with 1 Axes>"
      ]
     },
     "metadata": {
      "needs_background": "light"
     },
     "output_type": "display_data"
    }
   ],
   "source": [
    "plt.scatter(x,y,color=\"red\")\n",
    "plt.show()"
   ]
  },
  {
   "cell_type": "code",
   "execution_count": 11,
   "metadata": {},
   "outputs": [],
   "source": [
    "from sklearn.linear_model import LinearRegression"
   ]
  },
  {
   "cell_type": "code",
   "execution_count": 12,
   "metadata": {},
   "outputs": [],
   "source": [
    "model = LinearRegression()"
   ]
  },
  {
   "cell_type": "markdown",
   "metadata": {},
   "source": [
    "# Training"
   ]
  },
  {
   "cell_type": "code",
   "execution_count": 14,
   "metadata": {},
   "outputs": [
    {
     "data": {
      "text/plain": [
       "LinearRegression(copy_X=True, fit_intercept=True, n_jobs=None, normalize=False)"
      ]
     },
     "execution_count": 14,
     "metadata": {},
     "output_type": "execute_result"
    }
   ],
   "source": [
    "model.fit(x,y)"
   ]
  },
  {
   "cell_type": "markdown",
   "metadata": {},
   "source": [
    "# Predictions"
   ]
  },
  {
   "cell_type": "code",
   "execution_count": 16,
   "metadata": {},
   "outputs": [
    {
     "data": {
      "text/plain": [
       "array([[0.99659367],\n",
       "       [0.99745779],\n",
       "       [0.9969079 ],\n",
       "       [0.99572956],\n",
       "       [0.99635801],\n",
       "       [1.00256392],\n",
       "       [0.99604378],\n",
       "       [0.99580811],\n",
       "       [0.99596523],\n",
       "       [0.99824335],\n",
       "       [0.99934313],\n",
       "       [0.99588667],\n",
       "       [0.99816479],\n",
       "       [0.99730068],\n",
       "       [0.99651512],\n",
       "       [0.99470833],\n",
       "       [0.99525822],\n",
       "       [0.99557245],\n",
       "       [0.99847902],\n",
       "       [0.99698645],\n",
       "       [0.99612234],\n",
       "       [0.99525822],\n",
       "       [0.99455122],\n",
       "       [0.99730068],\n",
       "       [0.99769346],\n",
       "       [0.99620089],\n",
       "       [0.99965735],\n",
       "       [0.99643656],\n",
       "       [0.99612234],\n",
       "       [0.99879324],\n",
       "       [0.9983219 ],\n",
       "       [0.99517967],\n",
       "       [0.99635801],\n",
       "       [1.00107136],\n",
       "       [0.99659367],\n",
       "       [0.99557245],\n",
       "       [0.99557245],\n",
       "       [0.99580811],\n",
       "       [0.99682934],\n",
       "       [0.99612234],\n",
       "       [0.99808624],\n",
       "       [0.99510111],\n",
       "       [0.99580811],\n",
       "       [0.99455122],\n",
       "       [0.99871468],\n",
       "       [0.99627945],\n",
       "       [0.99730068],\n",
       "       [0.99753634],\n",
       "       [0.99549389],\n",
       "       [0.99596523],\n",
       "       [0.99659367],\n",
       "       [0.99643656],\n",
       "       [0.99651512],\n",
       "       [0.99580811],\n",
       "       [0.99580811],\n",
       "       [0.99627945],\n",
       "       [0.99745779],\n",
       "       [0.99737923],\n",
       "       [0.99651512],\n",
       "       [0.99549389],\n",
       "       [0.99965735],\n",
       "       [0.99541533],\n",
       "       [0.99588667],\n",
       "       [0.99722212],\n",
       "       [0.99620089],\n",
       "       [0.99635801],\n",
       "       [0.99502255],\n",
       "       [0.99863613],\n",
       "       [0.99549389],\n",
       "       [0.99675079],\n",
       "       [0.99651512],\n",
       "       [0.99588667],\n",
       "       [0.99470833],\n",
       "       [0.99533678],\n",
       "       [0.99620089],\n",
       "       [0.99800768],\n",
       "       [0.99580811],\n",
       "       [0.99855757],\n",
       "       [0.99588667],\n",
       "       [0.99517967],\n",
       "       [0.99541533],\n",
       "       [0.99635801],\n",
       "       [0.99596523],\n",
       "       [0.9976149 ],\n",
       "       [0.99698645],\n",
       "       [0.99635801],\n",
       "       [0.995651  ],\n",
       "       [0.99643656],\n",
       "       [0.99714356],\n",
       "       [0.99785057],\n",
       "       [0.99596523],\n",
       "       [0.9976149 ],\n",
       "       [0.99667223],\n",
       "       [0.99549389],\n",
       "       [0.99643656],\n",
       "       [0.9983219 ],\n",
       "       [0.99510111],\n",
       "       [0.99604378],\n",
       "       [0.99604378]])"
      ]
     },
     "execution_count": 16,
     "metadata": {},
     "output_type": "execute_result"
    }
   ],
   "source": [
    "output = model.predict(x)\n",
    "output"
   ]
  },
  {
   "cell_type": "code",
   "execution_count": 17,
   "metadata": {},
   "outputs": [],
   "source": [
    "slope = model.coef_\n",
    "intercept = model.intercept_"
   ]
  },
  {
   "cell_type": "code",
   "execution_count": 19,
   "metadata": {},
   "outputs": [
    {
     "name": "stdout",
     "output_type": "stream",
     "text": [
      "[[0.00078556]] [0.9903092]\n"
     ]
    }
   ],
   "source": [
    "print(slope,intercept)"
   ]
  },
  {
   "cell_type": "code",
   "execution_count": 20,
   "metadata": {},
   "outputs": [
    {
     "data": {
      "text/plain": [
       "0.43818504557920035"
      ]
     },
     "execution_count": 20,
     "metadata": {},
     "output_type": "execute_result"
    }
   ],
   "source": [
    "model.score(x,y)"
   ]
  },
  {
   "cell_type": "markdown",
   "metadata": {},
   "source": [
    "# Visualization"
   ]
  },
  {
   "cell_type": "code",
   "execution_count": 24,
   "metadata": {},
   "outputs": [
    {
     "data": {
      "image/png": "[encoded data removed]",
      "text/plain": [
       "<Figure size 432x288 with 1 Axes>"
      ]
     },
     "metadata": {
      "needs_background": "light"
     },
     "output_type": "display_data"
    }
   ],
   "source": [
    "plt.scatter(x,y,color = \"red\",label=\"dataset\")\n",
    "plt.plot(x,output,color=\"black\",label=\"Prediction\")\n",
    "plt.legend()\n",
    "plt.show()"
   ]
  },
  {
   "cell_type": "code",
   "execution_count": null,
   "metadata": {},
   "outputs": [],
   "source": []
  }
 ],
 "metadata": {
  "kernelspec": {
   "display_name": "Python 3",
   "language": "python",
   "name": "python3"
  },
  "language_info": {
   "codemirror_mode": {
    "name": "ipython",
    "version": 3
   },
   "file_extension": ".py",
   "mimetype": "text/x-python",
   "name": "python",
   "nbconvert_exporter": "python",
   "pygments_lexer": "ipython3",
   "version": "3.7.6"
  }
 },
 "nbformat": 4,
 "nbformat_minor": 4
}
